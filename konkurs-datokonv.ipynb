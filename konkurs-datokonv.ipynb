{
 "cells": [
  {
   "cell_type": "markdown",
   "metadata": {},
   "source": [
    "# Hente tabeller med datokonvertering\n",
    "## Eksempel Konkurs\n",
    "Denne ukentlige tabellen for har et brudd i  tidsserien fra 2010-2018. Den er egnet for å vise funksjonen for datokonvertering. Her vises figurer både med x-akse som kategorier og som dato.\n",
    "\n",
    "Kilde: [12972](https://www.ssb.no/statbank/table/12972) - Opna  konkursar ukentleg"
   ]
  },
  {
   "cell_type": "code",
   "execution_count": 1,
   "metadata": {},
   "outputs": [],
   "source": [
    "# Her importerer vi ulike pakker\n",
    "%matplotlib inline\n",
    "import matplotlib.pyplot as plt\n",
    "import requests\n",
    "import pandas as pd\n",
    "from pyjstat import pyjstat  # pyjstat er for behandling av JSON-stat\n"
   ]
  },
  {
   "cell_type": "markdown",
   "metadata": {},
   "source": [
    "URL til tabellenes metadata i PxWebApi, som vi skal poste spørringene mot"
   ]
  },
  {
   "cell_type": "code",
   "execution_count": 2,
   "metadata": {},
   "outputs": [],
   "source": [
    "tabid = \"12972\" \n",
    "lang = \"no\" # kan også være \"en\"\n",
    "url1 = \"https://data.ssb.no/api/v0/\" + lang + \"/table/\" + tabid;"
   ]
  },
  {
   "cell_type": "markdown",
   "metadata": {},
   "source": [
    "Vi spør etter Antall konkurser og antall ansatte pr uke, for alle næringer. "
   ]
  },
  {
   "cell_type": "code",
   "execution_count": 3,
   "metadata": {},
   "outputs": [],
   "source": [
    "query1 = {\n",
    "  \"query\": [\n",
    "    {\n",
    "      \"code\": \"Region\",\n",
    "      \"selection\": {\n",
    "        \"filter\": \"item\",\n",
    "        \"values\": [\n",
    "          \"0N\"\n",
    "        ]\n",
    "      }\n",
    "    },\n",
    "    {\n",
    "      \"code\": \"Naring\",\n",
    "      \"selection\": {\n",
    "        \"filter\": \"item\",\n",
    "        \"values\": [\n",
    "          \"00-99\"\n",
    "        ]\n",
    "      }\n",
    "    },\n",
    "\n",
    "    {\n",
    "      \"code\": \"ContentsCode\",\n",
    "      \"selection\": {\n",
    "        \"filter\": \"item\",\n",
    "        \"values\": [\n",
    "          \"Konkursar\"\n",
    "        ]\n",
    "      }\n",
    "    },\n",
    "    {\n",
    "      \"code\": \"Tid\",\n",
    "      \"selection\": {\n",
    "        \"filter\": \"all\",\n",
    "        \"values\": [\n",
    "          \"*\"\n",
    "        ]\n",
    "      }\n",
    "    }\n",
    "  ],\n",
    "  \"response\": {\n",
    "    \"format\": \"json-stat2\"\n",
    "  }\n",
    "}\n"
   ]
  },
  {
   "cell_type": "markdown",
   "metadata": {},
   "source": [
    "Generell funksjon for å identifisere frekvens slik at vi kan konvertere til datoformat. Da kan vi kan sette Pandas RangeIndex"
   ]
  },
  {
   "cell_type": "code",
   "execution_count": 4,
   "metadata": {},
   "outputs": [],
   "source": [
    "#identifiserer frekvens og konvcerterer til datoformat\n",
    "def dateConv(dataframe):\n",
    "    frekvens, frek_no, frek_en, fmt = findFrequency(dataframe)\n",
    "    setPeriodIndex(frekvens, frek_no, frek_en, fmt, dataframe)\n",
    "#funksjon for frekvenser    \n",
    "def findFrequency(dataframe):\n",
    "    frekvenser = ['måned', 'kvartal', 'uke', 'år', 'year', 'quarter', 'month', 'week']\n",
    "    frek_no = ''  #SSB bruker dessverre norske og ikke engelske frekvenskoder U - uke osv.\n",
    "    freq_en = '' #engelsk frekvens kode\n",
    "    fmt = '' # python datoformat\n",
    "    for w in frekvenser:\n",
    "        if w in dataframe.columns:\n",
    "            if w in ['måned', 'month']:\n",
    "                frek_no = 'M'\n",
    "                frek_en = 'M'\n",
    "                fmt = '%YM%m'\n",
    "            elif w in ['kvartal', 'quarter']:\n",
    "                frek_no = 'K'\n",
    "                frek_en = 'Q'\n",
    "            elif w in ['uke', 'week']:\n",
    "                frek_no = 'U';\n",
    "                frek_en = 'W'\n",
    "                fmt = '%YW%W-%w'\n",
    "            else:\n",
    "                frek_no = ''\n",
    "                frek_en = 'A'\n",
    "            return w, frek_no, frek_en, fmt\n",
    "    \n",
    "        \n",
    "def setPeriodIndex(frekvens, frek_no, freq_en, fmt, df):\n",
    "    if frekvens in ['kvartal', 'quarter']:\n",
    "        # erstatter K med Q, konverterr til datoformat og setter frekensen til Pandas PeriodIndex\n",
    "        df.index = pd.PeriodIndex(pd.to_datetime(df[frekvens].str.replace(frek_no, freq_en), errors='coerce'), freq='Q-DEC')\n",
    "    elif frekvens in ['uke', 'week']:\n",
    "        df.index = pd.PeriodIndex(pd.to_datetime(df[frekvens].str.replace(frek_no, freq_en).add('-0'), format= fmt, errors='coerce'), freq='W-MON')\n",
    "    else:\n",
    "        df.index =  pd.PeriodIndex(pd.to_datetime(df[frekvens], format= fmt, errors='coerce'), freq=freq_en)\n",
    "\n"
   ]
  },
  {
   "cell_type": "markdown",
   "metadata": {},
   "source": [
    "Her poster vi spørringen"
   ]
  },
  {
   "cell_type": "code",
   "execution_count": 5,
   "metadata": {},
   "outputs": [],
   "source": [
    "res1 = requests.post(url1, json=query1)"
   ]
  },
  {
   "cell_type": "markdown",
   "metadata": {},
   "source": [
    "Leser JSON-stat resultatet med biblioteket pyjstat"
   ]
  },
  {
   "cell_type": "code",
   "execution_count": 6,
   "metadata": {},
   "outputs": [],
   "source": [
    "ds1 = pyjstat.Dataset.read(res1.text)"
   ]
  },
  {
   "cell_type": "markdown",
   "metadata": {},
   "source": [
    "Skriver resultatet til en Pandas dataframe"
   ]
  },
  {
   "cell_type": "code",
   "execution_count": 7,
   "metadata": {},
   "outputs": [],
   "source": [
    "df1 = ds1.write('dataframe')"
   ]
  },
  {
   "cell_type": "code",
   "execution_count": 8,
   "metadata": {},
   "outputs": [
    {
     "data": {
      "text/html": [
       "<div>\n",
       "<style scoped>\n",
       "    .dataframe tbody tr th:only-of-type {\n",
       "        vertical-align: middle;\n",
       "    }\n",
       "\n",
       "    .dataframe tbody tr th {\n",
       "        vertical-align: top;\n",
       "    }\n",
       "\n",
       "    .dataframe thead th {\n",
       "        text-align: right;\n",
       "    }\n",
       "</style>\n",
       "<table border=\"1\" class=\"dataframe\">\n",
       "  <thead>\n",
       "    <tr style=\"text-align: right;\">\n",
       "      <th></th>\n",
       "      <th>region</th>\n",
       "      <th>næring</th>\n",
       "      <th>statistikkvariabel</th>\n",
       "      <th>uke</th>\n",
       "      <th>value</th>\n",
       "    </tr>\n",
       "  </thead>\n",
       "  <tbody>\n",
       "    <tr>\n",
       "      <th>0</th>\n",
       "      <td>Heile landet</td>\n",
       "      <td>Alle næringar</td>\n",
       "      <td>Konkursar</td>\n",
       "      <td>2009U01</td>\n",
       "      <td>92</td>\n",
       "    </tr>\n",
       "    <tr>\n",
       "      <th>1</th>\n",
       "      <td>Heile landet</td>\n",
       "      <td>Alle næringar</td>\n",
       "      <td>Konkursar</td>\n",
       "      <td>2009U02</td>\n",
       "      <td>86</td>\n",
       "    </tr>\n",
       "    <tr>\n",
       "      <th>2</th>\n",
       "      <td>Heile landet</td>\n",
       "      <td>Alle næringar</td>\n",
       "      <td>Konkursar</td>\n",
       "      <td>2009U03</td>\n",
       "      <td>110</td>\n",
       "    </tr>\n",
       "  </tbody>\n",
       "</table>\n",
       "</div>"
      ],
      "text/plain": [
       "         region         næring statistikkvariabel      uke  value\n",
       "0  Heile landet  Alle næringar          Konkursar  2009U01     92\n",
       "1  Heile landet  Alle næringar          Konkursar  2009U02     86\n",
       "2  Heile landet  Alle næringar          Konkursar  2009U03    110"
      ]
     },
     "execution_count": 8,
     "metadata": {},
     "output_type": "execute_result"
    }
   ],
   "source": [
    "df1.head(3)"
   ]
  },
  {
   "cell_type": "code",
   "execution_count": 9,
   "metadata": {},
   "outputs": [
    {
     "data": {
      "text/html": [
       "<div>\n",
       "<style scoped>\n",
       "    .dataframe tbody tr th:only-of-type {\n",
       "        vertical-align: middle;\n",
       "    }\n",
       "\n",
       "    .dataframe tbody tr th {\n",
       "        vertical-align: top;\n",
       "    }\n",
       "\n",
       "    .dataframe thead th {\n",
       "        text-align: right;\n",
       "    }\n",
       "</style>\n",
       "<table border=\"1\" class=\"dataframe\">\n",
       "  <thead>\n",
       "    <tr style=\"text-align: right;\">\n",
       "      <th></th>\n",
       "      <th>region</th>\n",
       "      <th>næring</th>\n",
       "      <th>statistikkvariabel</th>\n",
       "      <th>uke</th>\n",
       "      <th>value</th>\n",
       "    </tr>\n",
       "  </thead>\n",
       "  <tbody>\n",
       "    <tr>\n",
       "      <th>116</th>\n",
       "      <td>Heile landet</td>\n",
       "      <td>Alle næringar</td>\n",
       "      <td>Konkursar</td>\n",
       "      <td>2020U19</td>\n",
       "      <td>73</td>\n",
       "    </tr>\n",
       "    <tr>\n",
       "      <th>117</th>\n",
       "      <td>Heile landet</td>\n",
       "      <td>Alle næringar</td>\n",
       "      <td>Konkursar</td>\n",
       "      <td>2020U20</td>\n",
       "      <td>59</td>\n",
       "    </tr>\n",
       "    <tr>\n",
       "      <th>118</th>\n",
       "      <td>Heile landet</td>\n",
       "      <td>Alle næringar</td>\n",
       "      <td>Konkursar</td>\n",
       "      <td>2020U21</td>\n",
       "      <td>23</td>\n",
       "    </tr>\n",
       "  </tbody>\n",
       "</table>\n",
       "</div>"
      ],
      "text/plain": [
       "           region         næring statistikkvariabel      uke  value\n",
       "116  Heile landet  Alle næringar          Konkursar  2020U19     73\n",
       "117  Heile landet  Alle næringar          Konkursar  2020U20     59\n",
       "118  Heile landet  Alle næringar          Konkursar  2020U21     23"
      ]
     },
     "execution_count": 9,
     "metadata": {},
     "output_type": "execute_result"
    }
   ],
   "source": [
    "df1.tail(3)"
   ]
  },
  {
   "cell_type": "code",
   "execution_count": 10,
   "metadata": {},
   "outputs": [
    {
     "data": {
      "text/html": [
       "<div>\n",
       "<style scoped>\n",
       "    .dataframe tbody tr th:only-of-type {\n",
       "        vertical-align: middle;\n",
       "    }\n",
       "\n",
       "    .dataframe tbody tr th {\n",
       "        vertical-align: top;\n",
       "    }\n",
       "\n",
       "    .dataframe thead th {\n",
       "        text-align: right;\n",
       "    }\n",
       "</style>\n",
       "<table border=\"1\" class=\"dataframe\">\n",
       "  <thead>\n",
       "    <tr style=\"text-align: right;\">\n",
       "      <th></th>\n",
       "      <th>region</th>\n",
       "      <th>næring</th>\n",
       "      <th>statistikkvariabel</th>\n",
       "      <th>value</th>\n",
       "    </tr>\n",
       "    <tr>\n",
       "      <th>uke</th>\n",
       "      <th></th>\n",
       "      <th></th>\n",
       "      <th></th>\n",
       "      <th></th>\n",
       "    </tr>\n",
       "  </thead>\n",
       "  <tbody>\n",
       "    <tr>\n",
       "      <th>2009U01</th>\n",
       "      <td>Heile landet</td>\n",
       "      <td>Alle næringar</td>\n",
       "      <td>Konkursar</td>\n",
       "      <td>92</td>\n",
       "    </tr>\n",
       "    <tr>\n",
       "      <th>2009U02</th>\n",
       "      <td>Heile landet</td>\n",
       "      <td>Alle næringar</td>\n",
       "      <td>Konkursar</td>\n",
       "      <td>86</td>\n",
       "    </tr>\n",
       "    <tr>\n",
       "      <th>2009U03</th>\n",
       "      <td>Heile landet</td>\n",
       "      <td>Alle næringar</td>\n",
       "      <td>Konkursar</td>\n",
       "      <td>110</td>\n",
       "    </tr>\n",
       "    <tr>\n",
       "      <th>2009U04</th>\n",
       "      <td>Heile landet</td>\n",
       "      <td>Alle næringar</td>\n",
       "      <td>Konkursar</td>\n",
       "      <td>11</td>\n",
       "    </tr>\n",
       "    <tr>\n",
       "      <th>2009U05</th>\n",
       "      <td>Heile landet</td>\n",
       "      <td>Alle næringar</td>\n",
       "      <td>Konkursar</td>\n",
       "      <td>15</td>\n",
       "    </tr>\n",
       "    <tr>\n",
       "      <th>...</th>\n",
       "      <td>...</td>\n",
       "      <td>...</td>\n",
       "      <td>...</td>\n",
       "      <td>...</td>\n",
       "    </tr>\n",
       "    <tr>\n",
       "      <th>2020U17</th>\n",
       "      <td>Heile landet</td>\n",
       "      <td>Alle næringar</td>\n",
       "      <td>Konkursar</td>\n",
       "      <td>68</td>\n",
       "    </tr>\n",
       "    <tr>\n",
       "      <th>2020U18</th>\n",
       "      <td>Heile landet</td>\n",
       "      <td>Alle næringar</td>\n",
       "      <td>Konkursar</td>\n",
       "      <td>57</td>\n",
       "    </tr>\n",
       "    <tr>\n",
       "      <th>2020U19</th>\n",
       "      <td>Heile landet</td>\n",
       "      <td>Alle næringar</td>\n",
       "      <td>Konkursar</td>\n",
       "      <td>73</td>\n",
       "    </tr>\n",
       "    <tr>\n",
       "      <th>2020U20</th>\n",
       "      <td>Heile landet</td>\n",
       "      <td>Alle næringar</td>\n",
       "      <td>Konkursar</td>\n",
       "      <td>59</td>\n",
       "    </tr>\n",
       "    <tr>\n",
       "      <th>2020U21</th>\n",
       "      <td>Heile landet</td>\n",
       "      <td>Alle næringar</td>\n",
       "      <td>Konkursar</td>\n",
       "      <td>23</td>\n",
       "    </tr>\n",
       "  </tbody>\n",
       "</table>\n",
       "<p>119 rows × 4 columns</p>\n",
       "</div>"
      ],
      "text/plain": [
       "               region         næring statistikkvariabel  value\n",
       "uke                                                           \n",
       "2009U01  Heile landet  Alle næringar          Konkursar     92\n",
       "2009U02  Heile landet  Alle næringar          Konkursar     86\n",
       "2009U03  Heile landet  Alle næringar          Konkursar    110\n",
       "2009U04  Heile landet  Alle næringar          Konkursar     11\n",
       "2009U05  Heile landet  Alle næringar          Konkursar     15\n",
       "...               ...            ...                ...    ...\n",
       "2020U17  Heile landet  Alle næringar          Konkursar     68\n",
       "2020U18  Heile landet  Alle næringar          Konkursar     57\n",
       "2020U19  Heile landet  Alle næringar          Konkursar     73\n",
       "2020U20  Heile landet  Alle næringar          Konkursar     59\n",
       "2020U21  Heile landet  Alle næringar          Konkursar     23\n",
       "\n",
       "[119 rows x 4 columns]"
      ]
     },
     "execution_count": 10,
     "metadata": {},
     "output_type": "execute_result"
    }
   ],
   "source": [
    "df1.set_index('uke')"
   ]
  },
  {
   "cell_type": "code",
   "execution_count": 11,
   "metadata": {},
   "outputs": [
    {
     "data": {
      "text/plain": [
       "RangeIndex(start=0, stop=119, step=1)"
      ]
     },
     "execution_count": 11,
     "metadata": {},
     "output_type": "execute_result"
    }
   ],
   "source": [
    "df1.index"
   ]
  },
  {
   "cell_type": "code",
   "execution_count": 12,
   "metadata": {},
   "outputs": [
    {
     "data": {
      "text/plain": [
       "<matplotlib.axes._subplots.AxesSubplot at 0x17734aa7688>"
      ]
     },
     "execution_count": 12,
     "metadata": {},
     "output_type": "execute_result"
    },
    {
     "data": {
      "image/png": "[encoded data removed]",
      "text/plain": [
       "<Figure size 864x432 with 1 Axes>"
      ]
     },
     "metadata": {
      "needs_background": "light"
     },
     "output_type": "display_data"
    }
   ],
   "source": [
    "df1.plot(x='uke', y='value', figsize=(12, 6), color='#1a9d49', title=\"Antall konkurser pr uke, x som kategori\")"
   ]
  },
  {
   "cell_type": "markdown",
   "metadata": {},
   "source": [
    "Kaller funksjonen dateConv som konverterer til dato. \n",
    "Gjør en konvertering fra kategori til datoformat. Deretter settes denne som index med bruk av Pandas PeriodIndex"
   ]
  },
  {
   "cell_type": "code",
   "execution_count": 13,
   "metadata": {},
   "outputs": [
    {
     "name": "stderr",
     "output_type": "stream",
     "text": [
      "INFO:numexpr.utils:NumExpr defaulting to 4 threads.\n"
     ]
    }
   ],
   "source": [
    "dateConv(df1)"
   ]
  },
  {
   "cell_type": "markdown",
   "metadata": {},
   "source": [
    "Nå har vi fått en Pandas PeriodIndex"
   ]
  },
  {
   "cell_type": "code",
   "execution_count": 14,
   "metadata": {},
   "outputs": [
    {
     "data": {
      "text/plain": [
       "PeriodIndex(['2009-01-06/2009-01-12', '2009-01-13/2009-01-19',\n",
       "             '2009-01-20/2009-01-26', '2009-01-27/2009-02-02',\n",
       "             '2009-02-03/2009-02-09', '2009-02-10/2009-02-16',\n",
       "             '2009-02-17/2009-02-23', '2009-02-24/2009-03-02',\n",
       "             '2009-03-03/2009-03-09', '2009-03-10/2009-03-16',\n",
       "             ...\n",
       "             '2020-03-24/2020-03-30', '2020-03-31/2020-04-06',\n",
       "             '2020-04-07/2020-04-13', '2020-04-14/2020-04-20',\n",
       "             '2020-04-21/2020-04-27', '2020-04-28/2020-05-04',\n",
       "             '2020-05-05/2020-05-11', '2020-05-12/2020-05-18',\n",
       "             '2020-05-19/2020-05-25', '2020-05-26/2020-06-01'],\n",
       "            dtype='period[W-MON]', name='uke', length=119, freq='W-MON')"
      ]
     },
     "execution_count": 14,
     "metadata": {},
     "output_type": "execute_result"
    }
   ],
   "source": [
    "df1.index"
   ]
  },
  {
   "cell_type": "code",
   "execution_count": 15,
   "metadata": {},
   "outputs": [
    {
     "name": "stdout",
     "output_type": "stream",
     "text": [
      "<class 'pandas.core.frame.DataFrame'>\n",
      "PeriodIndex: 119 entries, 2009-01-06/2009-01-12 to 2020-05-26/2020-06-01\n",
      "Freq: W-MON\n",
      "Data columns (total 5 columns):\n",
      " #   Column              Non-Null Count  Dtype \n",
      "---  ------              --------------  ----- \n",
      " 0   region              119 non-null    object\n",
      " 1   næring              119 non-null    object\n",
      " 2   statistikkvariabel  119 non-null    object\n",
      " 3   uke                 119 non-null    object\n",
      " 4   value               119 non-null    int64 \n",
      "dtypes: int64(1), object(4)\n",
      "memory usage: 5.6+ KB\n"
     ]
    }
   ],
   "source": [
    "df1.info()"
   ]
  },
  {
   "cell_type": "code",
   "execution_count": 16,
   "metadata": {},
   "outputs": [
    {
     "data": {
      "text/plain": [
       "<matplotlib.axes._subplots.AxesSubplot at 0x17734e1fc48>"
      ]
     },
     "execution_count": 16,
     "metadata": {},
     "output_type": "execute_result"
    },
    {
     "data": {
      "image/png": "[encoded data removed]",
      "text/plain": [
       "<Figure size 432x288 with 1 Axes>"
      ]
     },
     "metadata": {
      "needs_background": "light"
     },
     "output_type": "display_data"
    }
   ],
   "source": [
    "df1.plot() "
   ]
  },
  {
   "cell_type": "markdown",
   "metadata": {},
   "source": [
    "Øker størrelsen på figuren og setter SSB-farger"
   ]
  },
  {
   "cell_type": "code",
   "execution_count": 17,
   "metadata": {},
   "outputs": [
    {
     "data": {
      "text/plain": [
       "<matplotlib.axes._subplots.AxesSubplot at 0x17734eac6c8>"
      ]
     },
     "execution_count": 17,
     "metadata": {},
     "output_type": "execute_result"
    },
    {
     "data": {
      "image/png": "[encoded data removed]",
      "text/plain": [
       "<Figure size 1152x432 with 1 Axes>"
      ]
     },
     "metadata": {
      "needs_background": "light"
     },
     "output_type": "display_data"
    }
   ],
   "source": [
    "df1.plot(figsize=(16, 6), color='#1a9d49', title=\"Antall konkurser pr uke, med datokonvertering\")"
   ]
  }
 ],
 "metadata": {
  "kernelspec": {
   "display_name": "Python 3",
   "language": "python",
   "name": "python3"
  },
  "language_info": {
   "codemirror_mode": {
    "name": "ipython",
    "version": 3
   },
   "file_extension": ".py",
   "mimetype": "text/x-python",
   "name": "python",
   "nbconvert_exporter": "python",
   "pygments_lexer": "ipython3",
   "version": "3.7.6"
  }
 },
 "nbformat": 4,
 "nbformat_minor": 4
}
