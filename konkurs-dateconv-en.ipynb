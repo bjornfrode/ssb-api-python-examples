{
 "cells": [
  {
   "cell_type": "markdown",
   "metadata": {},
   "source": [
    "# Get table and use a function to convert to dates\n",
    "## Example bankruptcies\n",
    "This weekly StatBank table has a break in the time series from 2010-2018.It is suitable for displaying the date conversion function. Here figures are shown both with the x-axis as categories and as date.\n",
    "\n",
    "Source: [12972](https://www.ssb.no/en/statbank/table/12972) - Bankruptcies per day"
   ]
  },
  {
   "cell_type": "code",
   "execution_count": 2,
   "metadata": {},
   "outputs": [],
   "source": [
    "# Import packages \n",
    "import requests\n",
    "import pandas as pd\n",
    "from pyjstat import pyjstat  # pyjstat is for JSON-stat"
   ]
  },
  {
   "cell_type": "markdown",
   "metadata": {},
   "source": [
    "URL to table's metadata i PxWebApi, which we are going to post the queries towards"
   ]
  },
  {
   "cell_type": "code",
   "execution_count": 3,
   "metadata": {},
   "outputs": [],
   "source": [
    "tabid = \"12972\" # \n",
    "lang = \"en\" # language code can also be \"no\"\n",
    "url1 = \"https://data.ssb.no/api/v0/\" + lang + \"/table/\" + tabid;"
   ]
  },
  {
   "cell_type": "markdown",
   "metadata": {},
   "source": [
    "We query for the number of bankruptcies in Norway as a whole, and the number of employees affected per week, for all industries."
   ]
  },
  {
   "cell_type": "code",
   "execution_count": 4,
   "metadata": {},
   "outputs": [],
   "source": [
    "query1 = {\n",
    "  \"query\": [\n",
    "    {\n",
    "      \"code\": \"Region\",\n",
    "      \"selection\": {\n",
    "        \"filter\": \"item\",\n",
    "        \"values\": [\n",
    "          \"0N\"\n",
    "        ]\n",
    "      }\n",
    "    },\n",
    "    {\n",
    "      \"code\": \"Naring\",\n",
    "      \"selection\": {\n",
    "        \"filter\": \"item\",\n",
    "        \"values\": [\n",
    "          \"00-99\"\n",
    "        ]\n",
    "      }\n",
    "    },\n",
    "\n",
    "    {\n",
    "      \"code\": \"ContentsCode\",\n",
    "      \"selection\": {\n",
    "        \"filter\": \"item\",\n",
    "        \"values\": [\n",
    "          \"Konkursar\"\n",
    "        ]\n",
    "      }\n",
    "    },\n",
    "    {\n",
    "      \"code\": \"Tid\",\n",
    "      \"selection\": {\n",
    "        \"filter\": \"all\",\n",
    "        \"values\": [\n",
    "          \"*\"\n",
    "        ]\n",
    "      }\n",
    "    }\n",
    "  ],\n",
    "  \"response\": {\n",
    "    \"format\": \"json-stat2\"\n",
    "  }\n",
    "}\n"
   ]
  },
  {
   "cell_type": "markdown",
   "metadata": {},
   "source": [
    "General function to identify frequency so that we can convert to date format and set [**Pandas PeriodIndex**](https://pandas.pydata.org/pandas-docs/stable/user_guide/timeseries.html#time-span-representation)"
   ]
  },
  {
   "cell_type": "code",
   "execution_count": 5,
   "metadata": {},
   "outputs": [],
   "source": [
    "def dateConv(dataframe):\n",
    "    frekvens, frek_no, frek_en, fmt = findFrequency(dataframe)\n",
    "    setPeriodIndex(frekvens, frek_no, frek_en, fmt, dataframe)\n",
    "\n",
    "# function to identify frequency    \n",
    "def findFrequency(dataframe):\n",
    "    frekvenser = ['måned', 'kvartal', 'uke', 'år', 'year', 'quarter', 'month', 'week']\n",
    "    frek_no = ''  #statistics Norway unfortunately uses Norwegian and not English frequency codes U - week etc.\n",
    "    frek_en = '' # English frequency code\n",
    "    fmt = '' # python date format\n",
    "    for w in frekvenser:\n",
    "        if w in dataframe.columns:\n",
    "            if w in ['måned', 'month']:\n",
    "                frek_no = 'M'\n",
    "                frek_en = 'M'\n",
    "                fmt = '%YM%m'\n",
    "            elif w in ['kvartal', 'quarter']:\n",
    "                frek_no = 'K'\n",
    "                frek_en = 'Q'\n",
    "            elif w in ['uke', 'week']:\n",
    "                frek_no = 'U';\n",
    "                frek_en = 'W'\n",
    "                fmt = '%YW%W-%w'\n",
    "            else:\n",
    "                frek_no = ''\n",
    "                frek_en = 'A'\n",
    "            return w, frek_no, frek_en, fmt\n",
    "    \n",
    "# function to convert to date format and set the Pandas PeriodIndex.        \n",
    "def setPeriodIndex(frekvens, frek_no, freq_en, fmt, df):\n",
    "    if frekvens in ['kvartal', 'quarter']:\n",
    "        # erstatter K med Q, konverterer til datoformat og setter frekensen til Pandas PeriodIndex. \n",
    "        # Pandas forstår engelske frekevenskoder, men SSB bruker norske\n",
    "        df.index = pd.PeriodIndex(pd.to_datetime(df[frekvens].str.replace(frek_no, freq_en), errors='coerce'), freq='Q-DEC')\n",
    "    elif frekvens in ['uke', 'week']:\n",
    "        # må legge til '-0' for å få ukenr. til å bli mnd-dag\n",
    "        df.index = pd.PeriodIndex(pd.to_datetime(df[frekvens].str.replace(frek_no, freq_en).add('-0'), format= fmt, errors='coerce'), freq='W-MON')\n",
    "    else:\n",
    "        df.index =  pd.PeriodIndex(pd.to_datetime(df[frekvens], format= fmt, errors='coerce'), freq=freq_en)\n"
   ]
  },
  {
   "cell_type": "markdown",
   "metadata": {},
   "source": [
    "Here we post the query"
   ]
  },
  {
   "cell_type": "code",
   "execution_count": 6,
   "metadata": {},
   "outputs": [],
   "source": [
    "res1 = requests.post(url1, json=query1)"
   ]
  },
  {
   "cell_type": "markdown",
   "metadata": {},
   "source": [
    "Reads the JSON-stat result using the library [pyjstat](https://pypi.org/project/pyjstat/)"
   ]
  },
  {
   "cell_type": "code",
   "execution_count": 7,
   "metadata": {},
   "outputs": [],
   "source": [
    "ds1 = pyjstat.Dataset.read(res1.text)"
   ]
  },
  {
   "cell_type": "markdown",
   "metadata": {},
   "source": [
    "Write the resulting dataset to a Pandas dataframe"
   ]
  },
  {
   "cell_type": "code",
   "execution_count": 8,
   "metadata": {},
   "outputs": [],
   "source": [
    "df1 = ds1.write('dataframe')"
   ]
  },
  {
   "cell_type": "code",
   "execution_count": 9,
   "metadata": {},
   "outputs": [
    {
     "data": {
      "text/html": [
       "<div>\n",
       "<style scoped>\n",
       "    .dataframe tbody tr th:only-of-type {\n",
       "        vertical-align: middle;\n",
       "    }\n",
       "\n",
       "    .dataframe tbody tr th {\n",
       "        vertical-align: top;\n",
       "    }\n",
       "\n",
       "    .dataframe thead th {\n",
       "        text-align: right;\n",
       "    }\n",
       "</style>\n",
       "<table border=\"1\" class=\"dataframe\">\n",
       "  <thead>\n",
       "    <tr style=\"text-align: right;\">\n",
       "      <th></th>\n",
       "      <th>region</th>\n",
       "      <th>industry</th>\n",
       "      <th>contents</th>\n",
       "      <th>week</th>\n",
       "      <th>value</th>\n",
       "    </tr>\n",
       "  </thead>\n",
       "  <tbody>\n",
       "    <tr>\n",
       "      <th>0</th>\n",
       "      <td>The whole country</td>\n",
       "      <td>All industries</td>\n",
       "      <td>Bankruptcies</td>\n",
       "      <td>2009U01</td>\n",
       "      <td>92</td>\n",
       "    </tr>\n",
       "    <tr>\n",
       "      <th>1</th>\n",
       "      <td>The whole country</td>\n",
       "      <td>All industries</td>\n",
       "      <td>Bankruptcies</td>\n",
       "      <td>2009U02</td>\n",
       "      <td>86</td>\n",
       "    </tr>\n",
       "    <tr>\n",
       "      <th>2</th>\n",
       "      <td>The whole country</td>\n",
       "      <td>All industries</td>\n",
       "      <td>Bankruptcies</td>\n",
       "      <td>2009U03</td>\n",
       "      <td>110</td>\n",
       "    </tr>\n",
       "  </tbody>\n",
       "</table>\n",
       "</div>"
      ],
      "text/plain": [
       "              region        industry      contents     week  value\n",
       "0  The whole country  All industries  Bankruptcies  2009U01     92\n",
       "1  The whole country  All industries  Bankruptcies  2009U02     86\n",
       "2  The whole country  All industries  Bankruptcies  2009U03    110"
      ]
     },
     "execution_count": 9,
     "metadata": {},
     "output_type": "execute_result"
    }
   ],
   "source": [
    "df1.head(3)"
   ]
  },
  {
   "cell_type": "code",
   "execution_count": 10,
   "metadata": {},
   "outputs": [
    {
     "data": {
      "text/html": [
       "<div>\n",
       "<style scoped>\n",
       "    .dataframe tbody tr th:only-of-type {\n",
       "        vertical-align: middle;\n",
       "    }\n",
       "\n",
       "    .dataframe tbody tr th {\n",
       "        vertical-align: top;\n",
       "    }\n",
       "\n",
       "    .dataframe thead th {\n",
       "        text-align: right;\n",
       "    }\n",
       "</style>\n",
       "<table border=\"1\" class=\"dataframe\">\n",
       "  <thead>\n",
       "    <tr style=\"text-align: right;\">\n",
       "      <th></th>\n",
       "      <th>region</th>\n",
       "      <th>industry</th>\n",
       "      <th>contents</th>\n",
       "      <th>week</th>\n",
       "      <th>value</th>\n",
       "    </tr>\n",
       "  </thead>\n",
       "  <tbody>\n",
       "    <tr>\n",
       "      <th>119</th>\n",
       "      <td>The whole country</td>\n",
       "      <td>All industries</td>\n",
       "      <td>Bankruptcies</td>\n",
       "      <td>2020U22</td>\n",
       "      <td>106</td>\n",
       "    </tr>\n",
       "    <tr>\n",
       "      <th>120</th>\n",
       "      <td>The whole country</td>\n",
       "      <td>All industries</td>\n",
       "      <td>Bankruptcies</td>\n",
       "      <td>2020U23</td>\n",
       "      <td>77</td>\n",
       "    </tr>\n",
       "    <tr>\n",
       "      <th>121</th>\n",
       "      <td>The whole country</td>\n",
       "      <td>All industries</td>\n",
       "      <td>Bankruptcies</td>\n",
       "      <td>2020U24</td>\n",
       "      <td>2</td>\n",
       "    </tr>\n",
       "  </tbody>\n",
       "</table>\n",
       "</div>"
      ],
      "text/plain": [
       "                region        industry      contents     week  value\n",
       "119  The whole country  All industries  Bankruptcies  2020U22    106\n",
       "120  The whole country  All industries  Bankruptcies  2020U23     77\n",
       "121  The whole country  All industries  Bankruptcies  2020U24      2"
      ]
     },
     "execution_count": 10,
     "metadata": {},
     "output_type": "execute_result"
    }
   ],
   "source": [
    "df1.tail(3)"
   ]
  },
  {
   "cell_type": "markdown",
   "metadata": {},
   "source": [
    "Set week as index"
   ]
  },
  {
   "cell_type": "code",
   "execution_count": 12,
   "metadata": {},
   "outputs": [
    {
     "data": {
      "text/html": [
       "<div>\n",
       "<style scoped>\n",
       "    .dataframe tbody tr th:only-of-type {\n",
       "        vertical-align: middle;\n",
       "    }\n",
       "\n",
       "    .dataframe tbody tr th {\n",
       "        vertical-align: top;\n",
       "    }\n",
       "\n",
       "    .dataframe thead th {\n",
       "        text-align: right;\n",
       "    }\n",
       "</style>\n",
       "<table border=\"1\" class=\"dataframe\">\n",
       "  <thead>\n",
       "    <tr style=\"text-align: right;\">\n",
       "      <th></th>\n",
       "      <th>region</th>\n",
       "      <th>industry</th>\n",
       "      <th>contents</th>\n",
       "      <th>value</th>\n",
       "    </tr>\n",
       "    <tr>\n",
       "      <th>week</th>\n",
       "      <th></th>\n",
       "      <th></th>\n",
       "      <th></th>\n",
       "      <th></th>\n",
       "    </tr>\n",
       "  </thead>\n",
       "  <tbody>\n",
       "    <tr>\n",
       "      <th>2009U01</th>\n",
       "      <td>The whole country</td>\n",
       "      <td>All industries</td>\n",
       "      <td>Bankruptcies</td>\n",
       "      <td>92</td>\n",
       "    </tr>\n",
       "    <tr>\n",
       "      <th>2009U02</th>\n",
       "      <td>The whole country</td>\n",
       "      <td>All industries</td>\n",
       "      <td>Bankruptcies</td>\n",
       "      <td>86</td>\n",
       "    </tr>\n",
       "    <tr>\n",
       "      <th>2009U03</th>\n",
       "      <td>The whole country</td>\n",
       "      <td>All industries</td>\n",
       "      <td>Bankruptcies</td>\n",
       "      <td>110</td>\n",
       "    </tr>\n",
       "    <tr>\n",
       "      <th>2009U04</th>\n",
       "      <td>The whole country</td>\n",
       "      <td>All industries</td>\n",
       "      <td>Bankruptcies</td>\n",
       "      <td>11</td>\n",
       "    </tr>\n",
       "    <tr>\n",
       "      <th>2009U05</th>\n",
       "      <td>The whole country</td>\n",
       "      <td>All industries</td>\n",
       "      <td>Bankruptcies</td>\n",
       "      <td>15</td>\n",
       "    </tr>\n",
       "    <tr>\n",
       "      <th>...</th>\n",
       "      <td>...</td>\n",
       "      <td>...</td>\n",
       "      <td>...</td>\n",
       "      <td>...</td>\n",
       "    </tr>\n",
       "    <tr>\n",
       "      <th>2020U20</th>\n",
       "      <td>The whole country</td>\n",
       "      <td>All industries</td>\n",
       "      <td>Bankruptcies</td>\n",
       "      <td>59</td>\n",
       "    </tr>\n",
       "    <tr>\n",
       "      <th>2020U21</th>\n",
       "      <td>The whole country</td>\n",
       "      <td>All industries</td>\n",
       "      <td>Bankruptcies</td>\n",
       "      <td>66</td>\n",
       "    </tr>\n",
       "    <tr>\n",
       "      <th>2020U22</th>\n",
       "      <td>The whole country</td>\n",
       "      <td>All industries</td>\n",
       "      <td>Bankruptcies</td>\n",
       "      <td>106</td>\n",
       "    </tr>\n",
       "    <tr>\n",
       "      <th>2020U23</th>\n",
       "      <td>The whole country</td>\n",
       "      <td>All industries</td>\n",
       "      <td>Bankruptcies</td>\n",
       "      <td>77</td>\n",
       "    </tr>\n",
       "    <tr>\n",
       "      <th>2020U24</th>\n",
       "      <td>The whole country</td>\n",
       "      <td>All industries</td>\n",
       "      <td>Bankruptcies</td>\n",
       "      <td>2</td>\n",
       "    </tr>\n",
       "  </tbody>\n",
       "</table>\n",
       "<p>122 rows × 4 columns</p>\n",
       "</div>"
      ],
      "text/plain": [
       "                    region        industry      contents  value\n",
       "week                                                           \n",
       "2009U01  The whole country  All industries  Bankruptcies     92\n",
       "2009U02  The whole country  All industries  Bankruptcies     86\n",
       "2009U03  The whole country  All industries  Bankruptcies    110\n",
       "2009U04  The whole country  All industries  Bankruptcies     11\n",
       "2009U05  The whole country  All industries  Bankruptcies     15\n",
       "...                    ...             ...           ...    ...\n",
       "2020U20  The whole country  All industries  Bankruptcies     59\n",
       "2020U21  The whole country  All industries  Bankruptcies     66\n",
       "2020U22  The whole country  All industries  Bankruptcies    106\n",
       "2020U23  The whole country  All industries  Bankruptcies     77\n",
       "2020U24  The whole country  All industries  Bankruptcies      2\n",
       "\n",
       "[122 rows x 4 columns]"
      ]
     },
     "execution_count": 12,
     "metadata": {},
     "output_type": "execute_result"
    }
   ],
   "source": [
    "df1.set_index('week')"
   ]
  },
  {
   "cell_type": "code",
   "execution_count": 13,
   "metadata": {},
   "outputs": [
    {
     "data": {
      "text/plain": [
       "RangeIndex(start=0, stop=122, step=1)"
      ]
     },
     "execution_count": 13,
     "metadata": {},
     "output_type": "execute_result"
    }
   ],
   "source": [
    "df1.index"
   ]
  },
  {
   "cell_type": "markdown",
   "metadata": {},
   "source": [
    "#### plot the dataframe using Pandas plot"
   ]
  },
  {
   "cell_type": "code",
   "execution_count": 16,
   "metadata": {},
   "outputs": [
    {
     "data": {
      "text/plain": [
       "<matplotlib.axes._subplots.AxesSubplot at 0x260bee2b988>"
      ]
     },
     "execution_count": 16,
     "metadata": {},
     "output_type": "execute_result"
    },
    {
     "data": {
      "image/png": "[encoded data removed]",
      "text/plain": [
       "<Figure size 864x432 with 1 Axes>"
      ]
     },
     "metadata": {
      "needs_background": "light"
     },
     "output_type": "display_data"
    }
   ],
   "source": [
    "df1.plot(x='week', y='value', figsize=(12, 6), color='#1a9d49', title=\"Number of bankruptcies, x as catregory\")"
   ]
  },
  {
   "cell_type": "markdown",
   "metadata": {},
   "source": [
    "Calls the dateConv function that converts from category to date format. This is then set as an index using Pandas PeriodIndex."
   ]
  },
  {
   "cell_type": "code",
   "execution_count": 17,
   "metadata": {},
   "outputs": [
    {
     "name": "stderr",
     "output_type": "stream",
     "text": [
      "INFO:numexpr.utils:NumExpr defaulting to 4 threads.\n"
     ]
    }
   ],
   "source": [
    "dateConv(df1)"
   ]
  },
  {
   "cell_type": "markdown",
   "metadata": {},
   "source": [
    "Now we have a PeriodIndex"
   ]
  },
  {
   "cell_type": "code",
   "execution_count": 18,
   "metadata": {},
   "outputs": [
    {
     "data": {
      "text/plain": [
       "PeriodIndex(['2009-01-06/2009-01-12', '2009-01-13/2009-01-19',\n",
       "             '2009-01-20/2009-01-26', '2009-01-27/2009-02-02',\n",
       "             '2009-02-03/2009-02-09', '2009-02-10/2009-02-16',\n",
       "             '2009-02-17/2009-02-23', '2009-02-24/2009-03-02',\n",
       "             '2009-03-03/2009-03-09', '2009-03-10/2009-03-16',\n",
       "             ...\n",
       "             '2020-04-14/2020-04-20', '2020-04-21/2020-04-27',\n",
       "             '2020-04-28/2020-05-04', '2020-05-05/2020-05-11',\n",
       "             '2020-05-12/2020-05-18', '2020-05-19/2020-05-25',\n",
       "             '2020-05-26/2020-06-01', '2020-06-02/2020-06-08',\n",
       "             '2020-06-09/2020-06-15', '2020-06-16/2020-06-22'],\n",
       "            dtype='period[W-MON]', name='week', length=122, freq='W-MON')"
      ]
     },
     "execution_count": 18,
     "metadata": {},
     "output_type": "execute_result"
    }
   ],
   "source": [
    "df1.index"
   ]
  },
  {
   "cell_type": "code",
   "execution_count": 19,
   "metadata": {},
   "outputs": [
    {
     "name": "stdout",
     "output_type": "stream",
     "text": [
      "<class 'pandas.core.frame.DataFrame'>\n",
      "PeriodIndex: 122 entries, 2009-01-06/2009-01-12 to 2020-06-16/2020-06-22\n",
      "Freq: W-MON\n",
      "Data columns (total 5 columns):\n",
      " #   Column    Non-Null Count  Dtype \n",
      "---  ------    --------------  ----- \n",
      " 0   region    122 non-null    object\n",
      " 1   industry  122 non-null    object\n",
      " 2   contents  122 non-null    object\n",
      " 3   week      122 non-null    object\n",
      " 4   value     122 non-null    int64 \n",
      "dtypes: int64(1), object(4)\n",
      "memory usage: 5.7+ KB\n"
     ]
    }
   ],
   "source": [
    "df1.info()"
   ]
  },
  {
   "cell_type": "markdown",
   "metadata": {},
   "source": [
    "New plot, dates on the x-axis"
   ]
  },
  {
   "cell_type": "code",
   "execution_count": 20,
   "metadata": {},
   "outputs": [
    {
     "data": {
      "text/plain": [
       "<matplotlib.axes._subplots.AxesSubplot at 0x260bed429c8>"
      ]
     },
     "execution_count": 20,
     "metadata": {},
     "output_type": "execute_result"
    },
    {
     "data": {
      "image/png": "[encoded data removed]",
      "text/plain": [
       "<Figure size 432x288 with 1 Axes>"
      ]
     },
     "metadata": {
      "needs_background": "light"
     },
     "output_type": "display_data"
    }
   ],
   "source": [
    "df1.plot() "
   ]
  },
  {
   "cell_type": "markdown",
   "metadata": {},
   "source": [
    "Increase the size and set Statistics Norway's green"
   ]
  },
  {
   "cell_type": "code",
   "execution_count": 21,
   "metadata": {},
   "outputs": [
    {
     "data": {
      "text/plain": [
       "<matplotlib.axes._subplots.AxesSubplot at 0x260bef64348>"
      ]
     },
     "execution_count": 21,
     "metadata": {},
     "output_type": "execute_result"
    },
    {
     "data": {
      "image/png": "[encoded data removed]",
      "text/plain": [
       "<Figure size 1152x432 with 1 Axes>"
      ]
     },
     "metadata": {
      "needs_background": "light"
     },
     "output_type": "display_data"
    }
   ],
   "source": [
    "df1.plot(figsize=(16, 6), color='#1a9d49', title=\"Number of bankruptcies per week, with date conversion\")"
   ]
  },
  {
   "cell_type": "code",
   "execution_count": null,
   "metadata": {},
   "outputs": [],
   "source": []
  }
 ],
 "metadata": {
  "kernelspec": {
   "display_name": "Python 3",
   "language": "python",
   "name": "python3"
  },
  "language_info": {
   "codemirror_mode": {
    "name": "ipython",
    "version": 3
   },
   "file_extension": ".py",
   "mimetype": "text/x-python",
   "name": "python",
   "nbconvert_exporter": "python",
   "pygments_lexer": "ipython3",
   "version": "3.7.6"
  }
 },
 "nbformat": 4,
 "nbformat_minor": 4
}
